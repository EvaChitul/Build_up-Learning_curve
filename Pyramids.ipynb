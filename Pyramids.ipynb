{
  "nbformat": 4,
  "nbformat_minor": 0,
  "metadata": {
    "colab": {
      "name": "Pyramids.ipynb",
      "provenance": [],
      "authorship_tag": "ABX9TyMmbYBRhDPwIwMg8LfdpH6Y",
      "include_colab_link": true
    },
    "kernelspec": {
      "name": "python3",
      "display_name": "Python 3"
    }
  },
  "cells": [
    {
      "cell_type": "markdown",
      "metadata": {
        "id": "view-in-github",
        "colab_type": "text"
      },
      "source": [
        "<a href=\"https://colab.research.google.com/github/EvaChitul/Build_up-Learning_curve/blob/master/Pyramids.ipynb\" target=\"_parent\"><img src=\"https://colab.research.google.com/assets/colab-badge.svg\" alt=\"Open In Colab\"/></a>"
      ]
    },
    {
      "cell_type": "code",
      "metadata": {
        "id": "ZlVIKCQ33Ckd",
        "colab_type": "code",
        "colab": {
          "base_uri": "https://localhost:8080/",
          "height": 102
        },
        "outputId": "1da3abef-311b-4a32-bffd-02696fddbab2"
      },
      "source": [
        "def pyramid (n):\n",
        "  spaces = n * 2- 2\n",
        "  for a in range (0, n):\n",
        "    for b in range (0, spaces):\n",
        "      print(end = ' ')\n",
        "    spaces -= 1\n",
        "    for c in range (0, a +1):\n",
        "      print ('*', end = ' ')\n",
        "    print ('\\r')\n",
        "\n",
        "\n",
        "pyramid (5)"
      ],
      "execution_count": 7,
      "outputs": [
        {
          "output_type": "stream",
          "text": [
            "        * \r\n",
            "       * * \r\n",
            "      * * * \r\n",
            "     * * * * \r\n",
            "    * * * * * \r\n"
          ],
          "name": "stdout"
        }
      ]
    },
    {
      "cell_type": "code",
      "metadata": {
        "id": "5iRz8vo16Fos",
        "colab_type": "code",
        "colab": {}
      },
      "source": [
        ""
      ],
      "execution_count": 0,
      "outputs": []
    }
  ]
}