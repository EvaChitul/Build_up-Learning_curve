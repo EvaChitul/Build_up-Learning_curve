{
  "nbformat": 4,
  "nbformat_minor": 0,
  "metadata": {
    "colab": {
      "name": "Guess_Number_Game.ipynb",
      "provenance": [],
      "authorship_tag": "ABX9TyOj6kIF81uVi9Q671/GeeEv",
      "include_colab_link": true
    },
    "kernelspec": {
      "name": "python3",
      "display_name": "Python 3"
    }
  },
  "cells": [
    {
      "cell_type": "markdown",
      "metadata": {
        "id": "view-in-github",
        "colab_type": "text"
      },
      "source": [
        "<a href=\"https://colab.research.google.com/github/EvaChitul/Build_up-Learning_curve/blob/master/Guess_Number_Game.ipynb\" target=\"_parent\"><img src=\"https://colab.research.google.com/assets/colab-badge.svg\" alt=\"Open In Colab\"/></a>"
      ]
    },
    {
      "cell_type": "code",
      "metadata": {
        "id": "kAr6cXw7JR2t",
        "colab_type": "code",
        "colab": {
          "base_uri": "https://localhost:8080/",
          "height": 153
        },
        "outputId": "6d9e270e-baa5-40d0-ea65-bd9ab02e4a03"
      },
      "source": [
        "import random as rd\n",
        "\n",
        "limit = 30\n",
        "random_number = int(rd.randint(0, limit))\n",
        "print (random_number)\n",
        "number = 0\n",
        "\n",
        "while number != limit:\n",
        "  number = int(input('Insert number between 0 and ' + str(limit)) ) \n",
        "  if number > random_number and number <= limit:\n",
        "    print ('Number too big')\n",
        "  elif number > limit:\n",
        "    print ('Number outside limit. Please introduce a number between 0 and ' + str (limit))\n",
        "  elif number < random_number and number > 0:\n",
        "    print('Number too small')\n",
        "  elif number < 0:\n",
        "    print ('You are giving up')\n",
        "    break\n",
        "  else:\n",
        "    print('Congratulations you won! ' + str(number) + ' is the correct guess!')\n",
        "    print ('Game over!')\n",
        "    break\n"
      ],
      "execution_count": 26,
      "outputs": [
        {
          "output_type": "stream",
          "text": [
            "20\n",
            "Insert number between 0 and 3029\n",
            "Number too big\n",
            "Insert number between 0 and 3019\n",
            "Number too small\n",
            "Insert number between 0 and 3020\n",
            "Congratulations you won! 20 is the correct guess!\n",
            "Game over!\n"
          ],
          "name": "stdout"
        }
      ]
    },
    {
      "cell_type": "code",
      "metadata": {
        "id": "VAL_e7u3K89g",
        "colab_type": "code",
        "colab": {}
      },
      "source": [
        ""
      ],
      "execution_count": 0,
      "outputs": []
    }
  ]
}