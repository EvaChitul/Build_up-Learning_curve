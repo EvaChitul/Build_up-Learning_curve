{
  "nbformat": 4,
  "nbformat_minor": 0,
  "metadata": {
    "colab": {
      "name": "Dictionaries.ipynb",
      "provenance": [],
      "authorship_tag": "ABX9TyOFwwplFB3+FE/ZjmDVll37",
      "include_colab_link": true
    },
    "kernelspec": {
      "name": "python3",
      "display_name": "Python 3"
    }
  },
  "cells": [
    {
      "cell_type": "markdown",
      "metadata": {
        "id": "view-in-github",
        "colab_type": "text"
      },
      "source": [
        "<a href=\"https://colab.research.google.com/github/EvaChitul/Build_up-Learning_curve/blob/master/Dictionaries.ipynb\" target=\"_parent\"><img src=\"https://colab.research.google.com/assets/colab-badge.svg\" alt=\"Open In Colab\"/></a>"
      ]
    },
    {
      "cell_type": "code",
      "metadata": {
        "id": "7SFL8u-FliOc",
        "colab_type": "code",
        "colab": {
          "base_uri": "https://localhost:8080/",
          "height": 85
        },
        "outputId": "8318146e-0e52-41b7-a423-79fb5e603a40"
      },
      "source": [
        "di = {}\n",
        "di['one'] = 'Number one'\n",
        "di [2] = '2'\n",
        "\n",
        "dictio = {'trei': 3, 'patru': 4, 'cinci' : 5}\n",
        "print (di['one'])\n",
        "print (dictio.keys())\n",
        "print (dictio.values())\n",
        "dictio['sase'] = 6\n",
        "print (dictio)\n"
      ],
      "execution_count": 1,
      "outputs": [
        {
          "output_type": "stream",
          "text": [
            "Number one\n",
            "dict_keys(['trei', 'patru', 'cinci'])\n",
            "dict_values([3, 4, 5])\n",
            "{'trei': 3, 'patru': 4, 'cinci': 5, 'sase': 6}\n"
          ],
          "name": "stdout"
        }
      ]
    },
    {
      "cell_type": "code",
      "metadata": {
        "id": "Zj1MXeTFllGk",
        "colab_type": "code",
        "colab": {}
      },
      "source": [
        ""
      ],
      "execution_count": 0,
      "outputs": []
    }
  ]
}