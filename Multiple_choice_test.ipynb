{
  "nbformat": 4,
  "nbformat_minor": 0,
  "metadata": {
    "colab": {
      "name": "Multiple_choice_test.ipynb",
      "provenance": [],
      "authorship_tag": "ABX9TyNcwUSreE86TaaRWgpYiC1/",
      "include_colab_link": true
    },
    "kernelspec": {
      "name": "python3",
      "display_name": "Python 3"
    }
  },
  "cells": [
    {
      "cell_type": "markdown",
      "metadata": {
        "id": "view-in-github",
        "colab_type": "text"
      },
      "source": [
        "<a href=\"https://colab.research.google.com/github/EvaChitul/Build_up-Learning_curve/blob/master/Multiple_choice_test.ipynb\" target=\"_parent\"><img src=\"https://colab.research.google.com/assets/colab-badge.svg\" alt=\"Open In Colab\"/></a>"
      ]
    },
    {
      "cell_type": "code",
      "metadata": {
        "id": "d7aJ6zgGnmfy",
        "colab_type": "code",
        "colab": {
          "base_uri": "https://localhost:8080/",
          "height": 340
        },
        "outputId": "561b1ab6-1008-45e5-b803-769274968b9b"
      },
      "source": [
        "\n",
        "questions_to_ask = [\n",
        "  \"How many rings are on the Olympic flag? \\n a) 0 \\n b) 4 \\n c) 5 \\n d) 7\\n\", \n",
        "  \"What country borders Ukraine? \\n a) Lithuania \\n b) Bulgaria \\n c) Hungary \\n d) Serbia\\n\", \n",
        "  \"What was the name of the American effort to build an atomic bomb?\\n a) The Baltimore Project \\n b) The Chicago Project \\n c) The Manhattan Project \\n d) The Philadelphia Project\\n\"]\n",
        "\n",
        "class Qs():\n",
        "  def __init__(self, ask, answer):\n",
        "    self.ask = ask\n",
        "    self.answer = answer\n",
        "\n",
        "quests = [\n",
        "   Qs(questions_to_ask[0], ['5', 'c', 'five']),\n",
        "   Qs(questions_to_ask[1], ['hungary', 'c']),\n",
        "   Qs(questions_to_ask[2], ['the manhattan project', 'c'])]\n",
        "\n",
        "def run_test(questions):\n",
        "  score = 0\n",
        "  for question in questions:\n",
        "    answer = input(question.ask).lower()\n",
        "    if answer in question.answer:\n",
        "      score += 1\n",
        "  print (\"You answered \" + str(score) + \" out of \" + str(len(quests)) + \" correctly\")\n",
        "\n",
        "run_test(quests)\n",
        "\n"
      ],
      "execution_count": 26,
      "outputs": [
        {
          "output_type": "stream",
          "text": [
            "How many rings are on the Olympic flag? \n",
            " a) 0 \n",
            " b) 4 \n",
            " c) 5 \n",
            " d) 7\n",
            "5\n",
            "What country borders Ukraine? \n",
            " a) Lithuania \n",
            " b) Bulgaria \n",
            " c) Hungary \n",
            " d) Serbia\n",
            "c\n",
            "What was the name of the American effort to build an atomic bomb?\n",
            " a) The Baltimore Project \n",
            " b) The Chicago Project \n",
            " c) The Manhattan Project \n",
            " d) The Philadelphia Project\n",
            "c\n",
            "You answered 3 out of 3 correctly\n"
          ],
          "name": "stdout"
        }
      ]
    },
    {
      "cell_type": "code",
      "metadata": {
        "id": "dhjLrt_ezv9I",
        "colab_type": "code",
        "colab": {}
      },
      "source": [
        ""
      ],
      "execution_count": 0,
      "outputs": []
    }
  ]
}