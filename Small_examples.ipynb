{
  "nbformat": 4,
  "nbformat_minor": 0,
  "metadata": {
    "colab": {
      "name": "Small examples.ipynb",
      "provenance": [],
      "authorship_tag": "ABX9TyPaBX9HVqpzjHlD0wUDnhg/",
      "include_colab_link": true
    },
    "kernelspec": {
      "name": "python3",
      "display_name": "Python 3"
    }
  },
  "cells": [
    {
      "cell_type": "markdown",
      "metadata": {
        "id": "view-in-github",
        "colab_type": "text"
      },
      "source": [
        "<a href=\"https://colab.research.google.com/github/EvaChitul/Build_up-Learning_curve/blob/master/Small_examples.ipynb\" target=\"_parent\"><img src=\"https://colab.research.google.com/assets/colab-badge.svg\" alt=\"Open In Colab\"/></a>"
      ]
    },
    {
      "cell_type": "code",
      "metadata": {
        "id": "IcyM4A5PeBUV",
        "colab_type": "code",
        "colab": {
          "base_uri": "https://localhost:8080/",
          "height": 52
        },
        "outputId": "58d1866f-4def-43c5-8a6e-12efb792f77f"
      },
      "source": [
        "tup = (1, 2, 3, 4)\n",
        "print (tup*3)\n",
        "print(tup[::-1])"
      ],
      "execution_count": null,
      "outputs": [
        {
          "output_type": "stream",
          "text": [
            "(1, 2, 3, 4, 1, 2, 3, 4, 1, 2, 3, 4)\n",
            "(4, 3, 2, 1)\n"
          ],
          "name": "stdout"
        }
      ]
    },
    {
      "cell_type": "code",
      "metadata": {
        "id": "wguiKpnIeEIx",
        "colab_type": "code",
        "colab": {
          "base_uri": "https://localhost:8080/",
          "height": 87
        },
        "outputId": "f2571906-3cdf-43a3-acb6-f91d11e5e227"
      },
      "source": [
        "x = '45'\n",
        "print(int(x))\n",
        "print(float(x))\n",
        "y = 123.456\n",
        "print(int(y))\n",
        "print(complex(x))"
      ],
      "execution_count": null,
      "outputs": [
        {
          "output_type": "stream",
          "text": [
            "45\n",
            "45.0\n",
            "123\n",
            "(45+0j)\n"
          ],
          "name": "stdout"
        }
      ]
    },
    {
      "cell_type": "code",
      "metadata": {
        "id": "M-8HMsF3r9Ax",
        "colab_type": "code",
        "colab": {
          "base_uri": "https://localhost:8080/",
          "height": 52
        },
        "outputId": "ab7b752a-4817-43b9-fd36-ff4c8ee489df"
      },
      "source": [
        "x = input('Please enter a number')\n",
        "y = int(x)\n",
        "if y % 4 == 0:\n",
        "  print ('X is a multiple of 4')\n",
        "elif y % 2 == 0:\n",
        "  print ('X is an even number')\n",
        "else:\n",
        "  print ('X is an odd number')"
      ],
      "execution_count": null,
      "outputs": [
        {
          "output_type": "stream",
          "text": [
            "Please enter a number7\n",
            "X is an odd number\n"
          ],
          "name": "stdout"
        }
      ]
    },
    {
      "cell_type": "code",
      "metadata": {
        "id": "_Akn53JbqKzW",
        "colab_type": "code",
        "colab": {
          "base_uri": "https://localhost:8080/",
          "height": 85
        },
        "outputId": "da036d9b-64c1-4773-cb40-948643f5ec0e"
      },
      "source": [
        "numbers = input ('Please enter 2 numbers separated by space:')\n",
        "print(numbers)\n",
        "c =  len(numbers)\n",
        "print (c)\n",
        "no = numbers.split()\n",
        "a, b = int(no[0]), int(no[1])\n",
        "if a % b == 0:\n",
        "  print (a, 'is a multiple of', b)\n",
        "else:\n",
        "  print (a, 'is not a multiple of', b)"
      ],
      "execution_count": null,
      "outputs": [
        {
          "output_type": "stream",
          "text": [
            "Please enter 2 numbers separated by space:6 8\n",
            "6 8\n",
            "3\n",
            "6 is not a multiple of 8\n"
          ],
          "name": "stdout"
        }
      ]
    },
    {
      "cell_type": "code",
      "metadata": {
        "id": "80kTcCY9I3CQ",
        "colab_type": "code",
        "colab": {
          "base_uri": "https://localhost:8080/",
          "height": 34
        },
        "outputId": "95d15ffe-7664-4f85-d6ef-9a5ed2b0c713"
      },
      "source": [
        "a = [1, 1, 2, 3, 5, 8, 13, 21, 34, 55, 89]\n",
        "for i in a:\n",
        "  if i < 5:\n",
        "    print (i, end = ' ')\n",
        "  else:\n",
        "    continue\n"
      ],
      "execution_count": null,
      "outputs": [
        {
          "output_type": "stream",
          "text": [
            "1 1 2 3 "
          ],
          "name": "stdout"
        }
      ]
    },
    {
      "cell_type": "code",
      "metadata": {
        "id": "sInvhYq9BtyH",
        "colab_type": "code",
        "colab": {
          "base_uri": "https://localhost:8080/",
          "height": 34
        },
        "outputId": "cd2e6e53-56c7-436e-ff30-27a82cbb73a0"
      },
      "source": [
        "a = [1, 1, 2, 3, 5, 8, 13, 21, 34, 55, 89]\n",
        "b = []\n",
        "for i in a:\n",
        "  if i < 5:\n",
        "    b.append(i)\n",
        "  else:\n",
        "    continue\n",
        "print (b)"
      ],
      "execution_count": null,
      "outputs": [
        {
          "output_type": "stream",
          "text": [
            "[1, 1, 2, 3]\n"
          ],
          "name": "stdout"
        }
      ]
    },
    {
      "cell_type": "code",
      "metadata": {
        "id": "MLKWRuyiB8NR",
        "colab_type": "code",
        "colab": {
          "base_uri": "https://localhost:8080/",
          "height": 34
        },
        "outputId": "06c17370-2277-4609-e078-0f0325fe99bb"
      },
      "source": [
        "a = [1, 1, 2, 3, 5, 8, 13, 21, 34, 55, 89]\n",
        "[b for b in a if b < 5]"
      ],
      "execution_count": null,
      "outputs": [
        {
          "output_type": "execute_result",
          "data": {
            "text/plain": [
              "[1, 1, 2, 3]"
            ]
          },
          "metadata": {
            "tags": []
          },
          "execution_count": 1
        }
      ]
    },
    {
      "cell_type": "code",
      "metadata": {
        "id": "sLW2gDD7oDQy",
        "colab_type": "code",
        "colab": {
          "base_uri": "https://localhost:8080/",
          "height": 51
        },
        "outputId": "ee5d90e1-1c4f-4adf-deed-0d7b3257d2e3"
      },
      "source": [
        "a = [1, 1, 2, 3, 5, 8, 13, 21, 34, 55, 89]\n",
        "b = int(input('Insert a number:'))\n",
        "[c for c in a if c<b]"
      ],
      "execution_count": null,
      "outputs": [
        {
          "output_type": "stream",
          "text": [
            "Insert a number:45\n"
          ],
          "name": "stdout"
        },
        {
          "output_type": "execute_result",
          "data": {
            "text/plain": [
              "[1, 1, 2, 3, 5, 8, 13, 21, 34]"
            ]
          },
          "metadata": {
            "tags": []
          },
          "execution_count": 2
        }
      ]
    },
    {
      "cell_type": "code",
      "metadata": {
        "id": "iBnefBS17KsI",
        "colab_type": "code",
        "colab": {
          "base_uri": "https://localhost:8080/",
          "height": 51
        },
        "outputId": "8441c48f-af84-447a-ca63-dd06cf90339b"
      },
      "source": [
        "a = int(input('Enter a number:'))\n",
        "#a2 = a/2\n",
        "c = []\n",
        "b = 2\n",
        "while b < a/2:\n",
        "  if a%b == 0:\n",
        "    c.append(b)\n",
        "  b += 1\n",
        "c.append(a)\n",
        "print(c, end = ' ')\n",
        "\n",
        "\n"
      ],
      "execution_count": null,
      "outputs": [
        {
          "output_type": "stream",
          "text": [
            "Enter a number:45\n",
            "[3, 5, 9, 15, 45] "
          ],
          "name": "stdout"
        }
      ]
    },
    {
      "cell_type": "code",
      "metadata": {
        "id": "tuxZgkDTrKDt",
        "colab_type": "code",
        "colab": {
          "base_uri": "https://localhost:8080/",
          "height": 34
        },
        "outputId": "cbe783ac-2ceb-4503-e4b1-300e5f364810"
      },
      "source": [
        "a = [1, 1, 2, 3, 5, 8, 13, 21, 34, 55, 89]\n",
        "b = [1, 2, 3, 4, 5, 6, 7, 8, 9, 10, 11, 12, 13]\n",
        "c = []\n",
        "#[c for c in a and b]\n",
        "for i in a:\n",
        "  if i in b:\n",
        "    if i not in c:\n",
        "       c.append(i)\n",
        "print(c)"
      ],
      "execution_count": null,
      "outputs": [
        {
          "output_type": "stream",
          "text": [
            "[1, 2, 3, 5, 8, 13]\n"
          ],
          "name": "stdout"
        }
      ]
    },
    {
      "cell_type": "code",
      "metadata": {
        "id": "nfVWHOgu2UYq",
        "colab_type": "code",
        "colab": {
          "base_uri": "https://localhost:8080/",
          "height": 51
        },
        "outputId": "38d4c5d5-a0c7-48f1-fc2d-9f950ddae6d2"
      },
      "source": [
        "a = input('Insert word:')\n",
        "ainv = a[::-1]\n",
        "if a == ainv:\n",
        "  print ('The word is a polindrom')\n",
        "else:\n",
        "  print ('The word is not a polindrom')"
      ],
      "execution_count": null,
      "outputs": [
        {
          "output_type": "stream",
          "text": [
            "Insert word:examples\n",
            "The word is not a polindrom\n"
          ],
          "name": "stdout"
        }
      ]
    },
    {
      "cell_type": "code",
      "metadata": {
        "id": "92NKpTlvXC33",
        "colab_type": "code",
        "colab": {
          "base_uri": "https://localhost:8080/",
          "height": 34
        },
        "outputId": "ea0d5455-f3f2-4db5-d6fc-2c20653f1376"
      },
      "source": [
        "a = [1, 4, 9, 16, 25, 36, 49, 64, 81, 100]\n",
        "[b for b in a if b%2==0]"
      ],
      "execution_count": 1,
      "outputs": [
        {
          "output_type": "execute_result",
          "data": {
            "text/plain": [
              "[4, 16, 36, 64, 100]"
            ]
          },
          "metadata": {
            "tags": []
          },
          "execution_count": 1
        }
      ]
    },
    {
      "cell_type": "code",
      "metadata": {
        "id": "_QeplGaqrjkl",
        "colab_type": "code",
        "colab": {
          "base_uri": "https://localhost:8080/",
          "height": 34
        },
        "outputId": "fd814979-1118-4ae0-e6fe-085054747d22"
      },
      "source": [
        "ani = [1989, 1990, 1991, 1992]\n",
        "varsta = [2020 - an for an in ani]\n",
        "print (varsta)"
      ],
      "execution_count": 1,
      "outputs": [
        {
          "output_type": "stream",
          "text": [
            "[31, 30, 29, 28]\n"
          ],
          "name": "stdout"
        }
      ]
    },
    {
      "cell_type": "code",
      "metadata": {
        "id": "MYRdAfc0wP-9",
        "colab_type": "code",
        "colab": {
          "base_uri": "https://localhost:8080/",
          "height": 34
        },
        "outputId": "52b0bcf0-8a91-41df-ecf5-3c0a2c34c031"
      },
      "source": [
        "lista = [1, 2,3 ,4,5,6,7,8,9,10,11,12,13,14,15,16,17,18,19]\n",
        "[i for i in lista if i%2 == 0]"
      ],
      "execution_count": 1,
      "outputs": [
        {
          "output_type": "execute_result",
          "data": {
            "text/plain": [
              "[2, 4, 6, 8, 10, 12, 14, 16, 18]"
            ]
          },
          "metadata": {
            "tags": []
          },
          "execution_count": 1
        }
      ]
    },
    {
      "cell_type": "code",
      "metadata": {
        "id": "kXYV7GqwC4tQ",
        "colab_type": "code",
        "colab": {}
      },
      "source": [
        ""
      ],
      "execution_count": null,
      "outputs": []
    }
  ]
}