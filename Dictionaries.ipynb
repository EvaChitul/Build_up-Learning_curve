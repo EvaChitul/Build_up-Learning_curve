{
  "nbformat": 4,
  "nbformat_minor": 0,
  "metadata": {
    "colab": {
      "name": "Dictionaries.ipynb",
      "provenance": [],
      "authorship_tag": "ABX9TyM7LXpfv6J8dZP5+/yqA4Oz",
      "include_colab_link": true
    },
    "kernelspec": {
      "name": "python3",
      "display_name": "Python 3"
    }
  },
  "cells": [
    {
      "cell_type": "markdown",
      "metadata": {
        "id": "view-in-github",
        "colab_type": "text"
      },
      "source": [
        "<a href=\"https://colab.research.google.com/github/EvaChitul/Build_up-Learning_curve/blob/master/Dictionaries.ipynb\" target=\"_parent\"><img src=\"https://colab.research.google.com/assets/colab-badge.svg\" alt=\"Open In Colab\"/></a>"
      ]
    },
    {
      "cell_type": "code",
      "metadata": {
        "id": "7SFL8u-FliOc",
        "colab_type": "code",
        "colab": {
          "base_uri": "https://localhost:8080/",
          "height": 85
        },
        "outputId": "8318146e-0e52-41b7-a423-79fb5e603a40"
      },
      "source": [
        "di = {}\n",
        "di['one'] = 'Number one'\n",
        "di [2] = '2'\n",
        "\n",
        "dictio = {'trei': 3, 'patru': 4, 'cinci' : 5}\n",
        "print (di['one'])\n",
        "print (dictio.keys())\n",
        "print (dictio.values())\n",
        "dictio['sase'] = 6\n",
        "print (dictio)\n"
      ],
      "execution_count": 1,
      "outputs": [
        {
          "output_type": "stream",
          "text": [
            "Number one\n",
            "dict_keys(['trei', 'patru', 'cinci'])\n",
            "dict_values([3, 4, 5])\n",
            "{'trei': 3, 'patru': 4, 'cinci': 5, 'sase': 6}\n"
          ],
          "name": "stdout"
        }
      ]
    },
    {
      "cell_type": "code",
      "metadata": {
        "id": "ASjFIKq6XC5B",
        "colab_type": "code",
        "outputId": "4c786e5b-3e31-4022-bc95-84d56574ae3b",
        "colab": {
          "base_uri": "https://localhost:8080/",
          "height": 68
        }
      },
      "source": [
        "dicti = {'trei': 3, 'patru': 4, 'cinci': 5, 'sase': 6}\n",
        "di = {}\n",
        "di['exemplu'] = 'exe 1'\n",
        "print (di)\n",
        "dicti['trei'] = di['exemplu']\n",
        "print(dicti.values())\n",
        "print(dicti.keys())\n",
        "dicti['sapte'] = 7\n"
      ],
      "execution_count": 2,
      "outputs": [
        {
          "output_type": "stream",
          "text": [
            "{'exemplu': 'exe 1'}\n",
            "dict_values(['exe 1', 4, 5, 6])\n",
            "dict_keys(['trei', 'patru', 'cinci', 'sase'])\n"
          ],
          "name": "stdout"
        }
      ]
    },
    {
      "cell_type": "code",
      "metadata": {
        "id": "z278Z76smCyB",
        "colab_type": "code",
        "colab": {}
      },
      "source": [
        ""
      ],
      "execution_count": 0,
      "outputs": []
    }
  ]
}