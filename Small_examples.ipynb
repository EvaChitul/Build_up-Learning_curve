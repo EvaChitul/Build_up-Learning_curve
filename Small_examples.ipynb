{
  "nbformat": 4,
  "nbformat_minor": 0,
  "metadata": {
    "colab": {
      "name": "Small examples.ipynb",
      "provenance": [],
      "authorship_tag": "ABX9TyOEtkOF79SrkCjP1s1w/mL6",
      "include_colab_link": true
    },
    "kernelspec": {
      "name": "python3",
      "display_name": "Python 3"
    }
  },
  "cells": [
    {
      "cell_type": "markdown",
      "metadata": {
        "id": "view-in-github",
        "colab_type": "text"
      },
      "source": [
        "<a href=\"https://colab.research.google.com/github/EvaChitul/Build_up-Learning_curve/blob/master/Small_examples.ipynb\" target=\"_parent\"><img src=\"https://colab.research.google.com/assets/colab-badge.svg\" alt=\"Open In Colab\"/></a>"
      ]
    },
    {
      "cell_type": "code",
      "metadata": {
        "id": "IcyM4A5PeBUV",
        "colab_type": "code",
        "outputId": "58d1866f-4def-43c5-8a6e-12efb792f77f",
        "colab": {
          "base_uri": "https://localhost:8080/",
          "height": 52
        }
      },
      "source": [
        "tup = (1, 2, 3, 4)\n",
        "print (tup*3)\n",
        "print(tup[::-1])"
      ],
      "execution_count": 0,
      "outputs": [
        {
          "output_type": "stream",
          "text": [
            "(1, 2, 3, 4, 1, 2, 3, 4, 1, 2, 3, 4)\n",
            "(4, 3, 2, 1)\n"
          ],
          "name": "stdout"
        }
      ]
    },
    {
      "cell_type": "code",
      "metadata": {
        "id": "wguiKpnIeEIx",
        "colab_type": "code",
        "outputId": "f2571906-3cdf-43a3-acb6-f91d11e5e227",
        "colab": {
          "base_uri": "https://localhost:8080/",
          "height": 87
        }
      },
      "source": [
        "x = '45'\n",
        "print(int(x))\n",
        "print(float(x))\n",
        "y = 123.456\n",
        "print(int(y))\n",
        "print(complex(x))"
      ],
      "execution_count": 0,
      "outputs": [
        {
          "output_type": "stream",
          "text": [
            "45\n",
            "45.0\n",
            "123\n",
            "(45+0j)\n"
          ],
          "name": "stdout"
        }
      ]
    },
    {
      "cell_type": "code",
      "metadata": {
        "id": "M-8HMsF3r9Ax",
        "colab_type": "code",
        "outputId": "ab7b752a-4817-43b9-fd36-ff4c8ee489df",
        "colab": {
          "base_uri": "https://localhost:8080/",
          "height": 52
        }
      },
      "source": [
        "x = input('Please enter a number')\n",
        "y = int(x)\n",
        "if y % 4 == 0:\n",
        "  print ('X is a multiple of 4')\n",
        "elif y % 2 == 0:\n",
        "  print ('X is an even number')\n",
        "else:\n",
        "  print ('X is an odd number')"
      ],
      "execution_count": 0,
      "outputs": [
        {
          "output_type": "stream",
          "text": [
            "Please enter a number7\n",
            "X is an odd number\n"
          ],
          "name": "stdout"
        }
      ]
    },
    {
      "cell_type": "code",
      "metadata": {
        "id": "_Akn53JbqKzW",
        "colab_type": "code",
        "colab": {
          "base_uri": "https://localhost:8080/",
          "height": 87
        },
        "outputId": "da036d9b-64c1-4773-cb40-948643f5ec0e"
      },
      "source": [
        "numbers = input ('Please enter 2 numbers separated by space:')\n",
        "print(numbers)\n",
        "c =  len(numbers)\n",
        "print (c)\n",
        "no = numbers.split()\n",
        "a, b = int(no[0]), int(no[1])\n",
        "if a % b == 0:\n",
        "  print (a, 'is a multiple of', b)\n",
        "else:\n",
        "  print (a, 'is not a multiple of', b)"
      ],
      "execution_count": 4,
      "outputs": [
        {
          "output_type": "stream",
          "text": [
            "Please enter 2 numbers separated by space:6 8\n",
            "6 8\n",
            "3\n",
            "6 is not a multiple of 8\n"
          ],
          "name": "stdout"
        }
      ]
    },
    {
      "cell_type": "code",
      "metadata": {
        "id": "80kTcCY9I3CQ",
        "colab_type": "code",
        "colab": {}
      },
      "source": [
        ""
      ],
      "execution_count": 0,
      "outputs": []
    }
  ]
}