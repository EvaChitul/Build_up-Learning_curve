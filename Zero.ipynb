{
  "nbformat": 4,
  "nbformat_minor": 0,
  "metadata": {
    "colab": {
      "name": "Zero.ipynb",
      "provenance": [],
      "authorship_tag": "ABX9TyN6r97W1CV5sFKoiGxfSmOS",
      "include_colab_link": true
    },
    "kernelspec": {
      "name": "python3",
      "display_name": "Python 3"
    }
  },
  "cells": [
    {
      "cell_type": "markdown",
      "metadata": {
        "id": "view-in-github",
        "colab_type": "text"
      },
      "source": [
        "<a href=\"https://colab.research.google.com/github/EvaChitul/Build_up-Learning_curve/blob/master/Zero.ipynb\" target=\"_parent\"><img src=\"https://colab.research.google.com/assets/colab-badge.svg\" alt=\"Open In Colab\"/></a>"
      ]
    },
    {
      "cell_type": "code",
      "metadata": {
        "id": "c_hfyzOjRTtG",
        "colab_type": "code",
        "colab": {}
      },
      "source": [
        ""
      ],
      "execution_count": 0,
      "outputs": []
    },
    {
      "cell_type": "code",
      "metadata": {
        "id": "XP-tVld_C7Z_",
        "colab_type": "code",
        "outputId": "21b3b116-d9e2-4a17-aad2-0527ac45d463",
        "colab": {
          "base_uri": "https://localhost:8080/",
          "height": 51
        }
      },
      "source": [
        "x = int(input ('Please insert a value: '))\n",
        "if x < 0:\n",
        "    print ('X below zero')\n",
        "elif x == 0:\n",
        "    print ('x equal to zero')\n",
        "else: print ('x greater than zero')\n",
        "\n"
      ],
      "execution_count": 0,
      "outputs": [
        {
          "output_type": "stream",
          "text": [
            "Please insert a value: 50\n",
            "x greater than zero\n"
          ],
          "name": "stdout"
        }
      ]
    }
  ]
}