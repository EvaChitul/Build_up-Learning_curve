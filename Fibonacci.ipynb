{
  "nbformat": 4,
  "nbformat_minor": 0,
  "metadata": {
    "colab": {
      "name": "Fibonacci.ipynb",
      "provenance": [],
      "authorship_tag": "ABX9TyMbZbKJCAnYffDbuyAw6idk",
      "include_colab_link": true
    },
    "kernelspec": {
      "name": "python3",
      "display_name": "Python 3"
    }
  },
  "cells": [
    {
      "cell_type": "markdown",
      "metadata": {
        "id": "view-in-github",
        "colab_type": "text"
      },
      "source": [
        "<a href=\"https://colab.research.google.com/github/EvaChitul/Build_up-Learning_curve/blob/master/Fibonacci.ipynb\" target=\"_parent\"><img src=\"https://colab.research.google.com/assets/colab-badge.svg\" alt=\"Open In Colab\"/></a>"
      ]
    },
    {
      "cell_type": "code",
      "metadata": {
        "id": "pMV_owOtA3BU",
        "colab_type": "code",
        "colab": {}
      },
      "source": [
        "'''Printing Fibonacci series until x as introduced by user'''\n",
        "\n",
        "def fib(n):\n",
        "  'Print Fibonacci series until: '\n",
        "  a, b = 0, 1\n",
        "  while a < n:\n",
        "      print(a, end = ' ')\n",
        "      a, b = b, a+b"
      ],
      "execution_count": 0,
      "outputs": []
    }
  ]
}
