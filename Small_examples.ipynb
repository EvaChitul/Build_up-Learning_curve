{
  "nbformat": 4,
  "nbformat_minor": 0,
  "metadata": {
    "colab": {
      "name": "Small examples.ipynb",
      "provenance": [],
      "authorship_tag": "ABX9TyOQhVycMvkJ4joe6pXdjzrW",
      "include_colab_link": true
    },
    "kernelspec": {
      "name": "python3",
      "display_name": "Python 3"
    }
  },
  "cells": [
    {
      "cell_type": "markdown",
      "metadata": {
        "id": "view-in-github",
        "colab_type": "text"
      },
      "source": [
        "<a href=\"https://colab.research.google.com/github/EvaChitul/Build_up-Learning_curve/blob/master/Small_examples.ipynb\" target=\"_parent\"><img src=\"https://colab.research.google.com/assets/colab-badge.svg\" alt=\"Open In Colab\"/></a>"
      ]
    },
    {
      "cell_type": "code",
      "metadata": {
        "id": "IcyM4A5PeBUV",
        "colab_type": "code",
        "colab": {
          "base_uri": "https://localhost:8080/",
          "height": 52
        },
        "outputId": "58d1866f-4def-43c5-8a6e-12efb792f77f"
      },
      "source": [
        "tup = (1, 2, 3, 4)\n",
        "print (tup*3)\n",
        "print(tup[::-1])"
      ],
      "execution_count": null,
      "outputs": [
        {
          "output_type": "stream",
          "text": [
            "(1, 2, 3, 4, 1, 2, 3, 4, 1, 2, 3, 4)\n",
            "(4, 3, 2, 1)\n"
          ],
          "name": "stdout"
        }
      ]
    },
    {
      "cell_type": "code",
      "metadata": {
        "id": "wguiKpnIeEIx",
        "colab_type": "code",
        "colab": {
          "base_uri": "https://localhost:8080/",
          "height": 87
        },
        "outputId": "f2571906-3cdf-43a3-acb6-f91d11e5e227"
      },
      "source": [
        "x = '45'\n",
        "print(int(x))\n",
        "print(float(x))\n",
        "y = 123.456\n",
        "print(int(y))\n",
        "print(complex(x))"
      ],
      "execution_count": null,
      "outputs": [
        {
          "output_type": "stream",
          "text": [
            "45\n",
            "45.0\n",
            "123\n",
            "(45+0j)\n"
          ],
          "name": "stdout"
        }
      ]
    },
    {
      "cell_type": "code",
      "metadata": {
        "id": "M-8HMsF3r9Ax",
        "colab_type": "code",
        "colab": {
          "base_uri": "https://localhost:8080/",
          "height": 52
        },
        "outputId": "ab7b752a-4817-43b9-fd36-ff4c8ee489df"
      },
      "source": [
        "x = input('Please enter a number')\n",
        "y = int(x)\n",
        "if y % 4 == 0:\n",
        "  print ('X is a multiple of 4')\n",
        "elif y % 2 == 0:\n",
        "  print ('X is an even number')\n",
        "else:\n",
        "  print ('X is an odd number')"
      ],
      "execution_count": null,
      "outputs": [
        {
          "output_type": "stream",
          "text": [
            "Please enter a number7\n",
            "X is an odd number\n"
          ],
          "name": "stdout"
        }
      ]
    },
    {
      "cell_type": "code",
      "metadata": {
        "id": "_Akn53JbqKzW",
        "colab_type": "code",
        "colab": {
          "base_uri": "https://localhost:8080/",
          "height": 85
        },
        "outputId": "da036d9b-64c1-4773-cb40-948643f5ec0e"
      },
      "source": [
        "numbers = input ('Please enter 2 numbers separated by space:')\n",
        "print(numbers)\n",
        "c =  len(numbers)\n",
        "print (c)\n",
        "no = numbers.split()\n",
        "a, b = int(no[0]), int(no[1])\n",
        "if a % b == 0:\n",
        "  print (a, 'is a multiple of', b)\n",
        "else:\n",
        "  print (a, 'is not a multiple of', b)"
      ],
      "execution_count": null,
      "outputs": [
        {
          "output_type": "stream",
          "text": [
            "Please enter 2 numbers separated by space:6 8\n",
            "6 8\n",
            "3\n",
            "6 is not a multiple of 8\n"
          ],
          "name": "stdout"
        }
      ]
    },
    {
      "cell_type": "code",
      "metadata": {
        "id": "80kTcCY9I3CQ",
        "colab_type": "code",
        "colab": {
          "base_uri": "https://localhost:8080/",
          "height": 34
        },
        "outputId": "95d15ffe-7664-4f85-d6ef-9a5ed2b0c713"
      },
      "source": [
        "a = [1, 1, 2, 3, 5, 8, 13, 21, 34, 55, 89]\n",
        "for i in a:\n",
        "  if i < 5:\n",
        "    print (i, end = ' ')\n",
        "  else:\n",
        "    continue\n"
      ],
      "execution_count": null,
      "outputs": [
        {
          "output_type": "stream",
          "text": [
            "1 1 2 3 "
          ],
          "name": "stdout"
        }
      ]
    },
    {
      "cell_type": "code",
      "metadata": {
        "id": "sInvhYq9BtyH",
        "colab_type": "code",
        "colab": {
          "base_uri": "https://localhost:8080/",
          "height": 34
        },
        "outputId": "cd2e6e53-56c7-436e-ff30-27a82cbb73a0"
      },
      "source": [
        "a = [1, 1, 2, 3, 5, 8, 13, 21, 34, 55, 89]\n",
        "b = []\n",
        "for i in a:\n",
        "  if i < 5:\n",
        "    b.append(i)\n",
        "  else:\n",
        "    continue\n",
        "print (b)"
      ],
      "execution_count": null,
      "outputs": [
        {
          "output_type": "stream",
          "text": [
            "[1, 1, 2, 3]\n"
          ],
          "name": "stdout"
        }
      ]
    },
    {
      "cell_type": "code",
      "metadata": {
        "id": "MLKWRuyiB8NR",
        "colab_type": "code",
        "colab": {
          "base_uri": "https://localhost:8080/",
          "height": 34
        },
        "outputId": "06c17370-2277-4609-e078-0f0325fe99bb"
      },
      "source": [
        "a = [1, 1, 2, 3, 5, 8, 13, 21, 34, 55, 89]\n",
        "[b for b in a if b < 5]"
      ],
      "execution_count": null,
      "outputs": [
        {
          "output_type": "execute_result",
          "data": {
            "text/plain": [
              "[1, 1, 2, 3]"
            ]
          },
          "metadata": {
            "tags": []
          },
          "execution_count": 1
        }
      ]
    },
    {
      "cell_type": "code",
      "metadata": {
        "id": "sLW2gDD7oDQy",
        "colab_type": "code",
        "colab": {
          "base_uri": "https://localhost:8080/",
          "height": 51
        },
        "outputId": "ee5d90e1-1c4f-4adf-deed-0d7b3257d2e3"
      },
      "source": [
        "a = [1, 1, 2, 3, 5, 8, 13, 21, 34, 55, 89]\n",
        "b = int(input('Insert a number:'))\n",
        "[c for c in a if c<b]"
      ],
      "execution_count": null,
      "outputs": [
        {
          "output_type": "stream",
          "text": [
            "Insert a number:45\n"
          ],
          "name": "stdout"
        },
        {
          "output_type": "execute_result",
          "data": {
            "text/plain": [
              "[1, 1, 2, 3, 5, 8, 13, 21, 34]"
            ]
          },
          "metadata": {
            "tags": []
          },
          "execution_count": 2
        }
      ]
    },
    {
      "cell_type": "code",
      "metadata": {
        "id": "iBnefBS17KsI",
        "colab_type": "code",
        "colab": {
          "base_uri": "https://localhost:8080/",
          "height": 51
        },
        "outputId": "8441c48f-af84-447a-ca63-dd06cf90339b"
      },
      "source": [
        "a = int(input('Enter a number:'))\n",
        "#a2 = a/2\n",
        "c = []\n",
        "b = 2\n",
        "while b < a/2:\n",
        "  if a%b == 0:\n",
        "    c.append(b)\n",
        "  b += 1\n",
        "c.append(a)\n",
        "print(c, end = ' ')\n",
        "\n",
        "\n"
      ],
      "execution_count": null,
      "outputs": [
        {
          "output_type": "stream",
          "text": [
            "Enter a number:45\n",
            "[3, 5, 9, 15, 45] "
          ],
          "name": "stdout"
        }
      ]
    },
    {
      "cell_type": "code",
      "metadata": {
        "id": "tuxZgkDTrKDt",
        "colab_type": "code",
        "colab": {
          "base_uri": "https://localhost:8080/",
          "height": 34
        },
        "outputId": "cbe783ac-2ceb-4503-e4b1-300e5f364810"
      },
      "source": [
        "a = [1, 1, 2, 3, 5, 8, 13, 21, 34, 55, 89]\n",
        "b = [1, 2, 3, 4, 5, 6, 7, 8, 9, 10, 11, 12, 13]\n",
        "c = []\n",
        "#[c for c in a and b]\n",
        "for i in a:\n",
        "  if i in b:\n",
        "    if i not in c:\n",
        "       c.append(i)\n",
        "print(c)"
      ],
      "execution_count": null,
      "outputs": [
        {
          "output_type": "stream",
          "text": [
            "[1, 2, 3, 5, 8, 13]\n"
          ],
          "name": "stdout"
        }
      ]
    },
    {
      "cell_type": "code",
      "metadata": {
        "id": "nfVWHOgu2UYq",
        "colab_type": "code",
        "colab": {
          "base_uri": "https://localhost:8080/",
          "height": 51
        },
        "outputId": "38d4c5d5-a0c7-48f1-fc2d-9f950ddae6d2"
      },
      "source": [
        "a = input('Insert word:')\n",
        "ainv = a[::-1]\n",
        "if a == ainv:\n",
        "  print ('The word is a polindrom')\n",
        "else:\n",
        "  print ('The word is not a polindrom')"
      ],
      "execution_count": null,
      "outputs": [
        {
          "output_type": "stream",
          "text": [
            "Insert word:examples\n",
            "The word is not a polindrom\n"
          ],
          "name": "stdout"
        }
      ]
    },
    {
      "cell_type": "code",
      "metadata": {
        "id": "92NKpTlvXC33",
        "colab_type": "code",
        "colab": {
          "base_uri": "https://localhost:8080/",
          "height": 34
        },
        "outputId": "ea0d5455-f3f2-4db5-d6fc-2c20653f1376"
      },
      "source": [
        "a = [1, 4, 9, 16, 25, 36, 49, 64, 81, 100]\n",
        "[b for b in a if b%2==0]"
      ],
      "execution_count": null,
      "outputs": [
        {
          "output_type": "execute_result",
          "data": {
            "text/plain": [
              "[4, 16, 36, 64, 100]"
            ]
          },
          "metadata": {
            "tags": []
          },
          "execution_count": 1
        }
      ]
    },
    {
      "cell_type": "code",
      "metadata": {
        "id": "_QeplGaqrjkl",
        "colab_type": "code",
        "colab": {
          "base_uri": "https://localhost:8080/",
          "height": 34
        },
        "outputId": "fd814979-1118-4ae0-e6fe-085054747d22"
      },
      "source": [
        "ani = [1989, 1990, 1991, 1992]\n",
        "varsta = [2020 - an for an in ani]\n",
        "print (varsta)"
      ],
      "execution_count": null,
      "outputs": [
        {
          "output_type": "stream",
          "text": [
            "[31, 30, 29, 28]\n"
          ],
          "name": "stdout"
        }
      ]
    },
    {
      "cell_type": "code",
      "metadata": {
        "id": "MYRdAfc0wP-9",
        "colab_type": "code",
        "colab": {
          "base_uri": "https://localhost:8080/",
          "height": 34
        },
        "outputId": "52b0bcf0-8a91-41df-ecf5-3c0a2c34c031"
      },
      "source": [
        "lista = [1, 2,3 ,4,5,6,7,8,9,10,11,12,13,14,15,16,17,18,19]\n",
        "[i for i in lista if i%2 == 0]"
      ],
      "execution_count": null,
      "outputs": [
        {
          "output_type": "execute_result",
          "data": {
            "text/plain": [
              "[2, 4, 6, 8, 10, 12, 14, 16, 18]"
            ]
          },
          "metadata": {
            "tags": []
          },
          "execution_count": 1
        }
      ]
    },
    {
      "cell_type": "code",
      "metadata": {
        "id": "kXYV7GqwC4tQ",
        "colab_type": "code",
        "colab": {
          "base_uri": "https://localhost:8080/",
          "height": 85
        },
        "outputId": "c394475c-9ef2-4d59-84e4-8d35451f8eb7"
      },
      "source": [
        "num = (x*x for x in range (4))\n",
        "for i in num:\n",
        "  print (i)"
      ],
      "execution_count": null,
      "outputs": [
        {
          "output_type": "stream",
          "text": [
            "0\n",
            "1\n",
            "4\n",
            "9\n"
          ],
          "name": "stdout"
        }
      ]
    },
    {
      "cell_type": "code",
      "metadata": {
        "id": "RE13oag5M8PD",
        "colab_type": "code",
        "colab": {
          "base_uri": "https://localhost:8080/",
          "height": 34
        },
        "outputId": "5f5886af-fe2c-4a69-970f-fee61b0e5225"
      },
      "source": [
        "def gen():\n",
        "  list = range (10)\n",
        "  for i in list:\n",
        "    yield i*i\n",
        "\n",
        "generator = gen()\n",
        "for i in gen():\n",
        "  print(i, end = ' ')"
      ],
      "execution_count": null,
      "outputs": [
        {
          "output_type": "stream",
          "text": [
            "0 1 4 9 16 25 36 49 64 81 "
          ],
          "name": "stdout"
        }
      ]
    },
    {
      "cell_type": "code",
      "metadata": {
        "id": "BwBBhoKMiBA7",
        "colab_type": "code",
        "colab": {
          "base_uri": "https://localhost:8080/",
          "height": 34
        },
        "outputId": "a150d208-4147-4a4d-9c71-7cbbfdf35e7c"
      },
      "source": [
        "a = [5, 10, 15, 20, 25]\n",
        "def func():\n",
        "  new = [a[0], a[-1]]\n",
        "  print (new)\n",
        "func()\n",
        "#[x for x in a[0] and a[-1]]"
      ],
      "execution_count": null,
      "outputs": [
        {
          "output_type": "stream",
          "text": [
            "[5, 25]\n"
          ],
          "name": "stdout"
        }
      ]
    },
    {
      "cell_type": "code",
      "metadata": {
        "id": "KAlfOw1XlvU1",
        "colab_type": "code",
        "colab": {
          "base_uri": "https://localhost:8080/",
          "height": 51
        },
        "outputId": "d4e33dd4-4694-4c2c-c05e-a978349c36e6"
      },
      "source": [
        "def Fib():\n",
        "  numar = int(input('How many Fibonacci numbers to generate:'))\n",
        "  a, b = 1, 1\n",
        "  list = []\n",
        "  while numar > 0:\n",
        "    list.append(a)\n",
        "    a, b = b, a+b\n",
        "    numar -= 1\n",
        "  print (list)\n",
        "\n",
        "Fib()"
      ],
      "execution_count": null,
      "outputs": [
        {
          "output_type": "stream",
          "text": [
            "How many Fibonacci numbers to generate:10\n",
            "[1, 1, 2, 3, 5, 8, 13, 21, 34, 55]\n"
          ],
          "name": "stdout"
        }
      ]
    },
    {
      "cell_type": "code",
      "metadata": {
        "id": "NB2awU-9L0-I",
        "colab_type": "code",
        "colab": {
          "base_uri": "https://localhost:8080/",
          "height": 34
        },
        "outputId": "c32aa7be-6ba4-4c33-a5df-13cdcbb7ff05"
      },
      "source": [
        "def check():\n",
        "  a = int(input('Inset a list of numbers:' ))\n",
        "  b = []\n",
        "  for x in a:\n",
        "    if x not in b:\n",
        "        b.append(x)\n",
        "    else:\n",
        "        continue\n",
        "  print (b)\n",
        "\n",
        "id(check)"
      ],
      "execution_count": null,
      "outputs": [
        {
          "output_type": "execute_result",
          "data": {
            "text/plain": [
              "140569014047336"
            ]
          },
          "metadata": {
            "tags": []
          },
          "execution_count": 1
        }
      ]
    },
    {
      "cell_type": "code",
      "metadata": {
        "id": "QvCT7UQnL1sP",
        "colab_type": "code",
        "colab": {
          "base_uri": "https://localhost:8080/",
          "height": 68
        },
        "outputId": "dd7a023c-3d1b-41f9-fec6-2f4f014168fa"
      },
      "source": [
        "new = input('Insert input:')\n",
        "test1 = tuple(new)\n",
        "print(test1)\n",
        "#test2 = dict(new)\n",
        "test3 = list(new)\n",
        "#print(test2)\n",
        "print(test3)"
      ],
      "execution_count": null,
      "outputs": [
        {
          "output_type": "stream",
          "text": [
            "Insert input:abracadabra\n",
            "('a', 'b', 'r', 'a', 'c', 'a', 'd', 'a', 'b', 'r', 'a')\n",
            "['a', 'b', 'r', 'a', 'c', 'a', 'd', 'a', 'b', 'r', 'a']\n"
          ],
          "name": "stdout"
        }
      ]
    },
    {
      "cell_type": "code",
      "metadata": {
        "id": "WYEV3I745DbP",
        "colab_type": "code",
        "colab": {
          "base_uri": "https://localhost:8080/",
          "height": 85
        },
        "outputId": "4bcaa3ec-00a8-4693-b5c3-6e200af0f934"
      },
      "source": [
        "num = 10.0\n",
        "print (num)\n",
        "print(id(num))\n",
        "type(num)\n",
        "\n",
        "num = num + 1\n",
        "print (num)\n",
        "print(id(num))"
      ],
      "execution_count": null,
      "outputs": [
        {
          "output_type": "stream",
          "text": [
            "10.0\n",
            "140694770346840\n",
            "11.0\n",
            "140694770346864\n"
          ],
          "name": "stdout"
        }
      ]
    },
    {
      "cell_type": "code",
      "metadata": {
        "id": "EAPRqhZLGrlU",
        "colab_type": "code",
        "colab": {
          "base_uri": "https://localhost:8080/",
          "height": 34
        },
        "outputId": "cca4eb6c-734b-45d4-c031-fc3b2fe636b8"
      },
      "source": [
        "name = 'Eva Chitul'\n",
        "print('Hello {}'.format(name))"
      ],
      "execution_count": null,
      "outputs": [
        {
          "output_type": "stream",
          "text": [
            "Hello Eva Chitul\n"
          ],
          "name": "stdout"
        }
      ]
    },
    {
      "cell_type": "code",
      "metadata": {
        "id": "W-bu8HOgGsdu",
        "colab_type": "code",
        "colab": {
          "base_uri": "https://localhost:8080/",
          "height": 34
        },
        "outputId": "3e7bb1b6-c80e-46db-f401-837ec3541bbf"
      },
      "source": [
        "print('Text {} Al doilea text {} al treilea {}'.format(1, 2.5,'abracadabra'))"
      ],
      "execution_count": null,
      "outputs": [
        {
          "output_type": "stream",
          "text": [
            "Text 1 Al doilea text 2.5 al treilea abracadabra\n"
          ],
          "name": "stdout"
        }
      ]
    },
    {
      "cell_type": "code",
      "metadata": {
        "id": "d1fwbkpr0de-",
        "colab_type": "code",
        "colab": {
          "base_uri": "https://localhost:8080/",
          "height": 34
        },
        "outputId": "b883a508-ec4c-48a8-c999-8c763323975d"
      },
      "source": [
        "txt = 'incercam'\n",
        "print('Aici {}'.format(txt))"
      ],
      "execution_count": 1,
      "outputs": [
        {
          "output_type": "stream",
          "text": [
            "Aici incercam\n"
          ],
          "name": "stdout"
        }
      ]
    },
    {
      "cell_type": "code",
      "metadata": {
        "id": "x7AgG8GV1TR7",
        "colab_type": "code",
        "colab": {
          "base_uri": "https://localhost:8080/",
          "height": 34
        },
        "outputId": "45d629f8-24c8-4606-e64a-ff7808c83e7d"
      },
      "source": [
        "text = 'Omule perete'\n",
        "print('Cantam {}'.format(text))"
      ],
      "execution_count": 1,
      "outputs": [
        {
          "output_type": "stream",
          "text": [
            "Cantam Omule perete\n"
          ],
          "name": "stdout"
        }
      ]
    },
    {
      "cell_type": "code",
      "metadata": {
        "id": "Zyqs-ZkUIk7Q",
        "colab_type": "code",
        "colab": {
          "base_uri": "https://localhost:8080/",
          "height": 34
        },
        "outputId": "45d29569-f6ac-4b10-b1c0-90ab72720666"
      },
      "source": [
        "print('Prima {}, A doua {}, A treia {}'.format('abc', 123, 456.789))"
      ],
      "execution_count": 1,
      "outputs": [
        {
          "output_type": "stream",
          "text": [
            "Prima abc, A doua 123, A treia 456.789\n"
          ],
          "name": "stdout"
        }
      ]
    },
    {
      "cell_type": "code",
      "metadata": {
        "id": "6Kgtqps9ub9y",
        "colab_type": "code",
        "colab": {}
      },
      "source": [
        ""
      ],
      "execution_count": null,
      "outputs": []
    }
  ]
}