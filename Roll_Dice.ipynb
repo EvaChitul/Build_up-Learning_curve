{
  "nbformat": 4,
  "nbformat_minor": 0,
  "metadata": {
    "colab": {
      "name": "Roll_Dice.ipynb",
      "provenance": [],
      "authorship_tag": "ABX9TyPVVY2f2rYsjJ/hbAllkcOO",
      "include_colab_link": true
    },
    "kernelspec": {
      "name": "python3",
      "display_name": "Python 3"
    }
  },
  "cells": [
    {
      "cell_type": "markdown",
      "metadata": {
        "id": "view-in-github",
        "colab_type": "text"
      },
      "source": [
        "<a href=\"https://colab.research.google.com/github/EvaChitul/Build_up-Learning_curve/blob/master/Roll_Dice.ipynb\" target=\"_parent\"><img src=\"https://colab.research.google.com/assets/colab-badge.svg\" alt=\"Open In Colab\"/></a>"
      ]
    },
    {
      "cell_type": "code",
      "metadata": {
        "id": "qOPuz-gVzFcs",
        "colab_type": "code",
        "cellView": "code",
        "outputId": "6bf17408-7115-4341-d366-b942eec0449a",
        "colab": {
          "base_uri": "https://localhost:8080/",
          "height": 268
        }
      },
      "source": [
        "#@title Default title text\n",
        "#Simulate random walk\n",
        "\n",
        "import numpy as np\n",
        "import matplotlib.pyplot as plt\n",
        "\n",
        "np.random.seed(123)\n",
        "\n",
        "all_walks = []\n",
        "\n",
        "for i in range(250):\n",
        "\n",
        "  random_walk = [0]\n",
        "\n",
        "  for x in range(100) :\n",
        "      step = random_walk[-1]\n",
        "\n",
        "      dice = np.random.randint(1,7)\n",
        "  \n",
        "      if dice <= 2:\n",
        "          step = step - 1\n",
        "      elif dice <= 5:\n",
        "          step = step + 1\n",
        "      else:\n",
        "          step = step + np.random.randint(1,7)\n",
        "\n",
        "      if np.random.rand() <= 0.001 :\n",
        "            step = 0\n",
        "\n",
        "      random_walk.append(step)\n",
        "\n",
        "  all_walks.append(random_walk)\n",
        "\n",
        "\n",
        "# print(all_walks)\n",
        "# np_aw = np.array(all_walks)\n",
        "# plt.plot(np_aw)\n",
        "# plt.show()\n",
        "# plt.clf()\n",
        "# np_aw_t = np.transpose(np_aw)\n",
        "\n",
        "np_aw_t = np.transpose(np.array(all_walks))\n",
        "ends = np_aw_t[-1,:]\n",
        "\n",
        "# plt.plot(np_aw_t)\n",
        "# plt.show()\n",
        "\n",
        "plt.hist(ends)\n",
        "plt.show()\n"
      ],
      "execution_count": 1,
      "outputs": [
        {
          "output_type": "display_data",
          "data": {
            "image/png": "[encoded data removed]",
            "text/plain": [
              "<Figure size 432x288 with 1 Axes>"
            ]
          },
          "metadata": {
            "tags": [],
            "needs_background": "light"
          }
        }
      ]
    },
    {
      "cell_type": "code",
      "metadata": {
        "id": "08F6K32eVFmg",
        "colab_type": "code",
        "colab": {}
      },
      "source": [
        ""
      ],
      "execution_count": 0,
      "outputs": []
    }
  ]
}